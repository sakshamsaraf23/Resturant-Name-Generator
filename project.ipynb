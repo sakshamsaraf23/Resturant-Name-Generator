{
 "cells": [
  {
   "cell_type": "code",
   "execution_count": 20,
   "id": "0bf43cce",
   "metadata": {},
   "outputs": [],
   "source": [
    "from seckey import genapi_key\n",
    "import os\n",
    "os.environ['GOOGLE_API_KEY']=genapi_key"
   ]
  },
  {
   "cell_type": "code",
   "execution_count": 21,
   "id": "95edf2de",
   "metadata": {},
   "outputs": [],
   "source": [
    "from langchain.chat_models import init_chat_model\n",
    "message=init_chat_model(\"gemini-2.0-flash\",model_provider='google_genai')"
   ]
  },
  {
   "cell_type": "code",
   "execution_count": 5,
   "id": "134b0aa3",
   "metadata": {},
   "outputs": [
    {
     "name": "stdout",
     "output_type": "stream",
     "text": [
      "content='Okay, let\\'s brainstorm some fancy restaurant names for Indian food, aiming for sophistication and a touch of intrigue:\\n\\n**Emphasizing Heritage & Royalty:**\\n\\n*   **The Raj Mahal Dining Room:** (Classic, invokes images of palaces)\\n*   **Asoka\\'s Table:** (Refers to Emperor Asoka, suggests history and grandeur)\\n*   **Nawabi Flavors:** (Nawabs were Indian nobles, implies rich cuisine)\\n*   **The Amber Palace:** (Evokes the beautiful Amber Fort in Rajasthan)\\n*   **The Mughal Room:** (Reflects the Mughal empire\\'s influence on Indian cuisine)\\n*   **The Spice Route Legacy:** (Highlights the historical spice trade)\\n\\n**Focusing on Exotic Flavors & Ingredients:**\\n\\n*   **Saffron & Silk:** (Luxurious ingredients, sensual imagery)\\n*   **Cardamom & Cloves:** (Sophisticated spice pairing)\\n*   **The Turmeric Table:** (Highlights a key Indian spice)\\n*   **Chili & Chai:** (A contrasting flavor profile, intriguing)\\n*   **The Spice Merchant:** (Creates a sense of discovery and quality)\\n*   **The Golden Tamarind:** (Highlights a unique and flavorful ingredient)\\n\\n**Using Abstract & Evocative Names:**\\n\\n*   **Indira:** (Meaning \"beauty\" in Sanskrit)\\n*   **The Crimson Peacock:** (Vibrant colors, majestic bird)\\n*   **The Lotus & The Flame:** (Symbolic of purity and passion)\\n*   **The Spice Alchemist:** (Suggests innovative and masterful cooking)\\n*   **The Gilded Spoon:** (Implies luxury and culinary artistry)\\n*   **The Saffron Moon:** (Mysterious, exotic, and elegant)\\n\\n**Adding a Personal Touch (if applicable):**\\n\\n*   **[Your Family Name]\\'s Spice Kitchen:** (If you want to emphasize family tradition)\\n*   **[City/Region Name] Spice House:** (If you want to highlight a specific regional cuisine)\\n*   **[A Sanskrit/Hindi Word with a Positive Meaning] Bistro:** (Integrates culture and a modern dining style)\\n\\n**Tips for Choosing the Best Name:**\\n\\n*   **Check Availability:** Make sure the name isn\\'t already in use by another restaurant in your area, and that the domain name is available.\\n*   **Say it Out Loud:** Does it roll off the tongue? Is it easy to pronounce and remember?\\n*   **Consider Your Target Audience:** Who are you trying to attract? Does the name appeal to them?\\n*   **Think About Branding:** How will the name look on your signage, menus, and website?\\n*   **Get Feedback:** Ask friends, family, and potential customers what they think of your top choices.\\n\\n**Before deciding on the final name, be sure to do a trademark search to avoid any potential legal issues.**\\n\\nI hope this list gives you a great starting point! Good luck with your restaurant!' additional_kwargs={} response_metadata={'prompt_feedback': {'block_reason': 0, 'safety_ratings': []}, 'finish_reason': 'STOP', 'model_name': 'gemini-2.0-flash', 'safety_ratings': []} id='run--b261feff-d382-4476-a7a2-03b00570e259-0' usage_metadata={'input_tokens': 17, 'output_tokens': 622, 'total_tokens': 639, 'input_token_details': {'cache_read': 0}}\n"
     ]
    }
   ],
   "source": [
    "name=message.invoke(\"I want to open a resturant for Indian food. Suggest a fancy name for this\")\n",
    "print(name)"
   ]
  },
  {
   "cell_type": "code",
   "execution_count": 11,
   "id": "5b37b31a",
   "metadata": {},
   "outputs": [
    {
     "data": {
      "text/plain": [
       "'I want to open a resturant for Mexican food. Suggest a fancy name for this and just suggest one name'"
      ]
     },
     "execution_count": 11,
     "metadata": {},
     "output_type": "execute_result"
    }
   ],
   "source": [
    "from langchain.prompts import PromptTemplate\n",
    "\n",
    "prompt_template_name=PromptTemplate(\n",
    "    input_variables=['cuisine'],\n",
    "    template='I want to open a resturant for {cuisine} food. Suggest a fancy name for this and just suggest one name'\n",
    ")\n",
    "\n",
    "prompt_template_name.format(cuisine='Mexican')"
   ]
  },
  {
   "cell_type": "code",
   "execution_count": 12,
   "id": "43cb5812",
   "metadata": {},
   "outputs": [
    {
     "data": {
      "text/plain": [
       "'**The Gilded Griddle**'"
      ]
     },
     "execution_count": 12,
     "metadata": {},
     "output_type": "execute_result"
    }
   ],
   "source": [
    "from langchain.chains import LLMChain\n",
    "chain=LLMChain(llm=message,prompt=prompt_template_name)\n",
    "chain.run(\"American\")"
   ]
  },
  {
   "cell_type": "code",
   "execution_count": 13,
   "id": "44f91676",
   "metadata": {},
   "outputs": [],
   "source": [
    "prompt_template_name=PromptTemplate(\n",
    "    input_variables=['cuisine'],\n",
    "    template='I want to open a resturant for {cuisine} food. Suggest a fancy name for this and just suggest one name'\n",
    ")\n",
    "name_chain=LLMChain(llm=message,prompt=prompt_template_name)\n",
    "\n",
    "prompt_template_items=PromptTemplate(\n",
    "    input_variables=['resturant_name'],\n",
    "    template='Suggest some menu items for {resturant_name}. Return it as a comma seprated list'\n",
    ")\n",
    "food_items_chain=LLMChain(llm=message,prompt=prompt_template_items)"
   ]
  },
  {
   "cell_type": "code",
   "execution_count": 17,
   "id": "237b3c8d",
   "metadata": {},
   "outputs": [
    {
     "name": "stdout",
     "output_type": "stream",
     "text": [
      "Here are some menu item suggestions for \"The Gilded Griddle,\" keeping in mind a potentially upscale or decadent theme:\n",
      "\n",
      "**Breakfast/Brunch:**\n",
      "\n",
      "Golden Brioche French Toast with Salted Caramel & Candied Pecans, White Chocolate & Raspberry Pancakes, Lobster Benedict with Saffron Hollandaise, Smoked Salmon & Caviar Crepes, Truffle Scramble with Parmesan Crisps, Duck Confit Hash with Fried Duck Egg, 24K Gold Leaf Waffles with Champagne Berries, Foie Gras Torchon with Fig Jam & Toasted Brioche, Crab Cake Benedict with Old Bay Hollandaise, Lemon Ricotta Pancakes with Honeycomb Butter.\n",
      "\n",
      "**Lunch/Dinner (if applicable):**\n",
      "\n",
      "Seared Scallops with Brown Butter Grits, Pan-Seared Duck Breast with Cherry Reduction, Grilled Swordfish with Lemon-Herb Butter, Lobster Mac & Cheese with Gruyere & White Truffle Oil, Wagyu Burger with Caramelized Onions & Gruyere, Caviar Grilled Cheese with Brie & Chives, Butternut Squash Ravioli with Sage Brown Butter Sauce, Crispy Skin Salmon with Asparagus & Lemon Beurre Blanc\n",
      "\n",
      "**Sides:**\n",
      "\n",
      "Truffle Fries, Parmesan Asparagus, Lobster Risotto, Creamy Polenta with Wild Mushrooms, Roasted Root Vegetables with Balsamic Glaze, Saffron Infused Grits.\n",
      "\n",
      "**Drinks:**\n",
      "\n",
      "Mimosa Flight (various juices), Bellini, Espresso Martini, French 75, Champagne Cocktails, Iced Coffee with Gold Flakes, Fresh Squeezed Juices.\n",
      "\n",
      "Golden Brioche French Toast with Salted Caramel & Candied Pecans,White Chocolate & Raspberry Pancakes,Lobster Benedict with Saffron Hollandaise,Smoked Salmon & Caviar Crepes,Truffle Scramble with Parmesan Crisps,Duck Confit Hash with Fried Duck Egg,24K Gold Leaf Waffles with Champagne Berries,Foie Gras Torchon with Fig Jam & Toasted Brioche,Crab Cake Benedict with Old Bay Hollandaise,Lemon Ricotta Pancakes with Honeycomb Butter,Seared Scallops with Brown Butter Grits,Pan-Seared Duck Breast with Cherry Reduction,Grilled Swordfish with Lemon-Herb Butter,Lobster Mac & Cheese with Gruyere & White Truffle Oil,Wagyu Burger with Caramelized Onions & Gruyere,Caviar Grilled Cheese with Brie & Chives,Butternut Squash Ravioli with Sage Brown Butter Sauce,Crispy Skin Salmon with Asparagus & Lemon Beurre Blanc,Truffle Fries,Parmesan Asparagus,Lobster Risotto,Creamy Polenta with Wild Mushrooms,Roasted Root Vegetables with Balsamic Glaze,Saffron Infused Grits,Mimosa Flight (various juices),Bellini,Espresso Martini,French 75,Champagne Cocktails,Iced Coffee with Gold Flakes,Fresh Squeezed Juices\n"
     ]
    }
   ],
   "source": [
    "from langchain.chains import SimpleSequentialChain\n",
    "chain1=SimpleSequentialChain(chains=[name_chain,food_items_chain])\n",
    "responce=chain1.run(\"American\")\n",
    "print(responce)"
   ]
  },
  {
   "cell_type": "code",
   "execution_count": 22,
   "id": "d43de305",
   "metadata": {},
   "outputs": [],
   "source": [
    "prompt_template_name=PromptTemplate(\n",
    "    input_variables=['cuisine'],\n",
    "    template='I want to open a resturant for {cuisine} food. Suggest a fancy name for this and just suggest one name'\n",
    ")\n",
    "name_chain=LLMChain(llm=message,prompt=prompt_template_name,output_key=\"resturant_name\")\n",
    "\n",
    "prompt_template_items=PromptTemplate(\n",
    "    input_variables=['resturant_name'],\n",
    "    template='Suggest some menu items for {resturant_name}. Return it as a comma seprated list'\n",
    ")\n",
    "food_items_chain=LLMChain(llm=message,prompt=prompt_template_items,output_key=\"food_items\")"
   ]
  },
  {
   "cell_type": "code",
   "execution_count": 26,
   "id": "857f123e",
   "metadata": {},
   "outputs": [
    {
     "data": {
      "text/plain": [
       "{'cuisine': 'Arabic',\n",
       " 'resturant_name': '**Layali Al-Sultan** (ليالي السلطان) - \"Nights of the Sultan\"',\n",
       " 'food_items': 'Here are some menu items for a restaurant called \"Layali Al-Sultan\" (Nights of the Sultan), playing on a luxurious, Middle Eastern theme:\\n\\n**Appetizers (Mezze):**\\n\\nHummus Al Sultan,Baba Ghanoush Royale,Muhammara Delight,Fattoush Salad,Tabbouleh with Pomegranate,Labneh with Za\\'atar,Stuffed Grape Leaves (Dolma),Spicy Potatoes (Batata Harra),Fried Halloumi with Honey,Falafel Bites with Tahini,Kibbeh Nayyeh (raw meat dish), Sambousek (cheese/meat pastries)\\n\\n**Soups:**\\n\\nLentil Soup (Shorbat Adas),Creamy Chicken Soup with Saffron,Yogurt Soup (Shorbat Laban)\\n\\n**Salads:**\\n\\nLayali Al-Sultan Salad (signature salad with mixed greens, fruits, nuts, and a special dressing),Fattoush with Grilled Halloumi,Cucumber and Yogurt Salad (Khayar bi Laban)\\n\\n**Main Courses:**\\n\\nMixed Grill Platter (Kabab, Kofta, Shish Taouk),Lamb Chops with Rosemary and Garlic,Chicken Tagine with Apricots and Almonds,Seafood Tagine,Kofta Tagine with Tomato Sauce,Roasted Chicken with Sumac,Stuffed Eggplant (Sheikh El Mahshi),Mansaf (Lamb cooked in fermented dried yogurt), Kabsa (Mixed rice dish with meat)\\n\\n**Sides:**\\n\\nSaffron Rice,Couscous,Grilled Vegetables,Roasted Potatoes with Herbs,Lebanese Bread\\n\\n**Desserts:**\\n\\nBaklava,Knafeh,Umm Ali (Egyptian bread pudding),Rice Pudding (Roz bi Haleeb),Ma\\'amoul (date-filled cookies),Ashta Ice Cream,Fruit Platter with Honey and Nuts\\n\\n**Drinks:**\\n\\nJallab (date and grape molasses drink),Ayran (yogurt drink),Lemon Mint Juice,Pomegranate Juice,Arabic Coffee,Turkish Coffee,Mint Tea'}"
      ]
     },
     "execution_count": 26,
     "metadata": {},
     "output_type": "execute_result"
    }
   ],
   "source": [
    "from langchain.chains import SequentialChain\n",
    "chains2=SequentialChain(\n",
    "    chains=[name_chain,food_items_chain],\n",
    "    input_variables=['cuisine'],\n",
    "    output_variables=['resturant_name','food_items']\n",
    ")\n",
    "chains2({'cuisine':'Arabic'})"
   ]
  },
  {
   "cell_type": "code",
   "execution_count": null,
   "id": "b4650f3d",
   "metadata": {},
   "outputs": [],
   "source": []
  }
 ],
 "metadata": {
  "kernelspec": {
   "display_name": "Python 3",
   "language": "python",
   "name": "python3"
  },
  "language_info": {
   "codemirror_mode": {
    "name": "ipython",
    "version": 3
   },
   "file_extension": ".py",
   "mimetype": "text/x-python",
   "name": "python",
   "nbconvert_exporter": "python",
   "pygments_lexer": "ipython3",
   "version": "3.11.9"
  }
 },
 "nbformat": 4,
 "nbformat_minor": 5
}
